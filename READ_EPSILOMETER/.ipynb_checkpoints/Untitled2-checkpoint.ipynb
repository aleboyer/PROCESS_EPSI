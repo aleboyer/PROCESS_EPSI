{
 "cells": [
  {
   "cell_type": "code",
   "execution_count": 31,
   "metadata": {
    "collapsed": true
   },
   "outputs": [],
   "source": [
    "%matplotlib inline\n",
    "from IPython import display\n",
    "import time\n",
    "import numpy as np\n",
    "import matplotlib.pyplot as plt"
   ]
  },
  {
   "cell_type": "code",
   "execution_count": null,
   "metadata": {
    "collapsed": true
   },
   "outputs": [],
   "source": []
  },
  {
   "cell_type": "code",
   "execution_count": 2,
   "metadata": {
    "collapsed": false
   },
   "outputs": [],
   "source": [
    "import matplotlib.pyplot as plt"
   ]
  },
  {
   "cell_type": "code",
   "execution_count": 36,
   "metadata": {
    "collapsed": false
   },
   "outputs": [
    {
     "data": {
      "image/png": "[encoded data removed]",
      "text/plain": [
       "<matplotlib.figure.Figure at 0x10fdc8278>"
      ]
     },
     "metadata": {},
     "output_type": "display_data"
    },
    {
     "data": {
      "text/plain": [
       "[901585,\n",
       " 901586,\n",
       " 901587,\n",
       " 901588,\n",
       " 901589,\n",
       " 901590,\n",
       " 901591,\n",
       " 901592,\n",
       " 901593,\n",
       " 901594,\n",
       " 901595,\n",
       " 901596,\n",
       " 901597,\n",
       " 901598,\n",
       " 901599,\n",
       " 901600,\n",
       " 901601,\n",
       " 901602,\n",
       " 901603,\n",
       " 901604,\n",
       " 901605,\n",
       " 901606,\n",
       " 901607,\n",
       " 901608,\n",
       " 901609,\n",
       " 901610,\n",
       " 901611,\n",
       " 901612,\n",
       " 901613,\n",
       " 901614,\n",
       " 901615,\n",
       " 901616,\n",
       " 901617,\n",
       " 901618,\n",
       " 901619,\n",
       " 901620,\n",
       " 901621,\n",
       " 901622,\n",
       " 901623,\n",
       " 901624,\n",
       " 901625,\n",
       " 901626,\n",
       " 901627,\n",
       " 901628,\n",
       " 901629,\n",
       " 901630,\n",
       " 901631,\n",
       " 901632,\n",
       " 901633,\n",
       " 901634,\n",
       " 901635,\n",
       " 901636,\n",
       " 901637,\n",
       " 901638,\n",
       " 901639,\n",
       " 901640,\n",
       " 901641,\n",
       " 901642,\n",
       " 901643,\n",
       " 901644,\n",
       " 901645,\n",
       " 901646,\n",
       " 901647,\n",
       " 901648,\n",
       " 901649,\n",
       " 901650,\n",
       " 901651,\n",
       " 901652,\n",
       " 901653,\n",
       " 901654,\n",
       " 901655,\n",
       " 901656,\n",
       " 901657,\n",
       " 901658,\n",
       " 901659,\n",
       " 901660,\n",
       " 901826,\n",
       " 901662,\n",
       " 901663,\n",
       " 901664,\n",
       " 901665,\n",
       " 901666,\n",
       " 901667,\n",
       " 901668,\n",
       " 901669,\n",
       " 901670,\n",
       " 901671,\n",
       " 901672,\n",
       " 901673,\n",
       " 901674,\n",
       " 901675,\n",
       " 901676,\n",
       " 901677,\n",
       " 901678,\n",
       " 901679,\n",
       " 901680,\n",
       " 901681,\n",
       " 901682,\n",
       " 901683,\n",
       " 901684,\n",
       " 901685,\n",
       " 901686,\n",
       " 901687,\n",
       " 901688,\n",
       " 901689,\n",
       " 901690,\n",
       " 901691,\n",
       " 901692,\n",
       " 901693,\n",
       " 901694,\n",
       " 901695,\n",
       " 901696,\n",
       " 901697,\n",
       " 901698,\n",
       " 901699,\n",
       " 901700,\n",
       " 901701,\n",
       " 901702,\n",
       " 901703,\n",
       " 901704,\n",
       " 901705,\n",
       " 901706,\n",
       " 901707,\n",
       " 901708,\n",
       " 901709,\n",
       " 1973790,\n",
       " 901711,\n",
       " 901712,\n",
       " 901713,\n",
       " 901714,\n",
       " 901715,\n",
       " 901716,\n",
       " 901717,\n",
       " 901718,\n",
       " 901719,\n",
       " 901720,\n",
       " 901721,\n",
       " 901722,\n",
       " 901723,\n",
       " 901724,\n",
       " 901725,\n",
       " 901726,\n",
       " 901727,\n",
       " 901728,\n",
       " 901729,\n",
       " 901730]"
      ]
     },
     "execution_count": 36,
     "metadata": {},
     "output_type": "execute_result"
    }
   ],
   "source": [
    "fid=open('data_c_streaming_double.txt','r')\n",
    "eof=fid.seek(0,2)\n",
    "fid.tell()\n",
    "fid.seek(eof-1026)\n",
    "lines=fid.read().split('\\n')\n",
    "data=[int(x,0) for x in lines[:-1]]\n",
    "ax=plt.axes([.1, .1, .8, .8])\n",
    "ax.plot(range(len(data)),data)\n",
    "ax.set_ylim([0,1e6])\n",
    "plt.show()\n",
    "#data\n"
   ]
  },
  {
   "cell_type": "code",
   "execution_count": 33,
   "metadata": {
    "collapsed": false
   },
   "outputs": [
    {
     "ename": "ValueError",
     "evalue": "invalid literal for int() with base 0: ''",
     "output_type": "error",
     "traceback": [
      "\u001b[0;31m---------------------------------------------------------------------------\u001b[0m",
      "\u001b[0;31mValueError\u001b[0m                                Traceback (most recent call last)",
      "\u001b[0;32m<ipython-input-33-423a936fa5cf>\u001b[0m in \u001b[0;36m<module>\u001b[0;34m()\u001b[0m\n\u001b[1;32m      7\u001b[0m         \u001b[0mfid\u001b[0m\u001b[0;34m.\u001b[0m\u001b[0mseek\u001b[0m\u001b[0;34m(\u001b[0m\u001b[0meof\u001b[0m\u001b[0;34m-\u001b[0m\u001b[0;36m1026\u001b[0m\u001b[0;34m)\u001b[0m\u001b[0;34m\u001b[0m\u001b[0m\n\u001b[1;32m      8\u001b[0m         \u001b[0mlines\u001b[0m\u001b[0;34m=\u001b[0m\u001b[0mfid\u001b[0m\u001b[0;34m.\u001b[0m\u001b[0mread\u001b[0m\u001b[0;34m(\u001b[0m\u001b[0;34m)\u001b[0m\u001b[0;34m.\u001b[0m\u001b[0msplit\u001b[0m\u001b[0;34m(\u001b[0m\u001b[0;34m'\\n'\u001b[0m\u001b[0;34m)\u001b[0m\u001b[0;34m\u001b[0m\u001b[0m\n\u001b[0;32m----> 9\u001b[0;31m         \u001b[0mdata\u001b[0m\u001b[0;34m=\u001b[0m\u001b[0;34m[\u001b[0m\u001b[0mint\u001b[0m\u001b[0;34m(\u001b[0m\u001b[0mx\u001b[0m\u001b[0;34m,\u001b[0m\u001b[0;36m0\u001b[0m\u001b[0;34m)\u001b[0m \u001b[0;32mfor\u001b[0m \u001b[0mx\u001b[0m \u001b[0;32min\u001b[0m \u001b[0mlines\u001b[0m\u001b[0;34m[\u001b[0m\u001b[0;34m:\u001b[0m\u001b[0;34m-\u001b[0m\u001b[0;36m2\u001b[0m\u001b[0;34m]\u001b[0m\u001b[0;34m]\u001b[0m\u001b[0;34m\u001b[0m\u001b[0m\n\u001b[0m\u001b[1;32m     10\u001b[0m \u001b[0;34m\u001b[0m\u001b[0m\n\u001b[1;32m     11\u001b[0m         \u001b[0mplt\u001b[0m\u001b[0;34m.\u001b[0m\u001b[0mclf\u001b[0m\u001b[0;34m(\u001b[0m\u001b[0;34m)\u001b[0m\u001b[0;34m\u001b[0m\u001b[0m\n",
      "\u001b[0;32m<ipython-input-33-423a936fa5cf>\u001b[0m in \u001b[0;36m<listcomp>\u001b[0;34m(.0)\u001b[0m\n\u001b[1;32m      7\u001b[0m         \u001b[0mfid\u001b[0m\u001b[0;34m.\u001b[0m\u001b[0mseek\u001b[0m\u001b[0;34m(\u001b[0m\u001b[0meof\u001b[0m\u001b[0;34m-\u001b[0m\u001b[0;36m1026\u001b[0m\u001b[0;34m)\u001b[0m\u001b[0;34m\u001b[0m\u001b[0m\n\u001b[1;32m      8\u001b[0m         \u001b[0mlines\u001b[0m\u001b[0;34m=\u001b[0m\u001b[0mfid\u001b[0m\u001b[0;34m.\u001b[0m\u001b[0mread\u001b[0m\u001b[0;34m(\u001b[0m\u001b[0;34m)\u001b[0m\u001b[0;34m.\u001b[0m\u001b[0msplit\u001b[0m\u001b[0;34m(\u001b[0m\u001b[0;34m'\\n'\u001b[0m\u001b[0;34m)\u001b[0m\u001b[0;34m\u001b[0m\u001b[0m\n\u001b[0;32m----> 9\u001b[0;31m         \u001b[0mdata\u001b[0m\u001b[0;34m=\u001b[0m\u001b[0;34m[\u001b[0m\u001b[0mint\u001b[0m\u001b[0;34m(\u001b[0m\u001b[0mx\u001b[0m\u001b[0;34m,\u001b[0m\u001b[0;36m0\u001b[0m\u001b[0;34m)\u001b[0m \u001b[0;32mfor\u001b[0m \u001b[0mx\u001b[0m \u001b[0;32min\u001b[0m \u001b[0mlines\u001b[0m\u001b[0;34m[\u001b[0m\u001b[0;34m:\u001b[0m\u001b[0;34m-\u001b[0m\u001b[0;36m2\u001b[0m\u001b[0;34m]\u001b[0m\u001b[0;34m]\u001b[0m\u001b[0;34m\u001b[0m\u001b[0m\n\u001b[0m\u001b[1;32m     10\u001b[0m \u001b[0;34m\u001b[0m\u001b[0m\n\u001b[1;32m     11\u001b[0m         \u001b[0mplt\u001b[0m\u001b[0;34m.\u001b[0m\u001b[0mclf\u001b[0m\u001b[0;34m(\u001b[0m\u001b[0;34m)\u001b[0m\u001b[0;34m\u001b[0m\u001b[0m\n",
      "\u001b[0;31mValueError\u001b[0m: invalid literal for int() with base 0: ''"
     ]
    },
    {
     "data": {
      "image/png": "[encoded data removed]",
      "text/plain": [
       "<matplotlib.figure.Figure at 0x114fb6fd0>"
      ]
     },
     "metadata": {},
     "output_type": "display_data"
    }
   ],
   "source": [
    "fid=open('data_c_streaming_double.txt','r')\n",
    "ax=plt.axes([.1, .1, .8, .8])\n",
    "\n",
    "while True:\n",
    "    try:\n",
    "        eof=fid.seek(0,2)\n",
    "        fid.seek(eof-1026)\n",
    "        lines=fid.read().split('\\n')\n",
    "        data=[int(x,0) for x in lines[:-1]]\n",
    "\n",
    "        plt.clf()\n",
    "        ax.plot(range(len(data)),data)\n",
    "        ax.set_ylim([0,1e6])\n",
    "        display.display(plt.gcf())\n",
    "        display.clear_output(wait=True)\n",
    "        time.sleep(0.05) \n",
    "    except KeyboardInterrupt:\n",
    "        break\n",
    "\n"
   ]
  },
  {
   "cell_type": "code",
   "execution_count": 3,
   "metadata": {
    "collapsed": false
   },
   "outputs": [
    {
     "data": {
      "text/plain": [
       "<matplotlib.figure.Figure at 0x10a446470>"
      ]
     },
     "metadata": {},
     "output_type": "display_data"
    }
   ],
   "source": [
    "\n",
    "    display.display(pl.gcf())\n",
    "    time.sleep(1.0)\n",
    "\n"
   ]
  },
  {
   "cell_type": "code",
   "execution_count": 34,
   "metadata": {
    "collapsed": true
   },
   "outputs": [],
   "source": []
  },
  {
   "cell_type": "code",
   "execution_count": null,
   "metadata": {
    "collapsed": true
   },
   "outputs": [],
   "source": []
  }
 ],
 "metadata": {
  "kernelspec": {
   "display_name": "Python 3",
   "language": "python",
   "name": "python3"
  },
  "language_info": {
   "codemirror_mode": {
    "name": "ipython",
    "version": 3
   },
   "file_extension": ".py",
   "mimetype": "text/x-python",
   "name": "python",
   "nbconvert_exporter": "python",
   "pygments_lexer": "ipython3",
   "version": "3.4.4"
  }
 },
 "nbformat": 4,
 "nbformat_minor": 0
}
