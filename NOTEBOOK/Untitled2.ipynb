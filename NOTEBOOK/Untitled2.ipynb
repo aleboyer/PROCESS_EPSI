{
 "cells": [
  {
   "cell_type": "code",
   "execution_count": 1,
   "metadata": {
    "collapsed": true
   },
   "outputs": [],
   "source": [
    "%matplotlib inline\n",
    "from IPython import display\n",
    "import time\n",
    "import numpy as np\n",
    "import matplotlib.pyplot as plt"
   ]
  },
  {
   "cell_type": "code",
   "execution_count": 44,
   "metadata": {
    "collapsed": false
   },
   "outputs": [
    {
     "data": {
      "image/png": "[encoded data removed]",
      "text/plain": [
       "<matplotlib.figure.Figure at 0x11141f240>"
      ]
     },
     "metadata": {},
     "output_type": "display_data"
    }
   ],
   "source": [
    "fid=open('data_c_streaming_double.txt','r')\n",
    "eof=fid.seek(0,2)\n",
    "fid.tell()\n",
    "fid.seek(eof-4*1026)\n",
    "lines=fid.read().split('\\n')\n",
    "data=[int(x,0) for x in lines[:-1]]\n",
    "ax=plt.axes([.1, .1, .8, .8])\n",
    "ax.plot(range(len(data)),data)\n",
    "ax.set_ylim([0,500])\n",
    "plt.ion()\n",
    "plt.show()\n",
    "#data\n"
   ]
  },
  {
   "cell_type": "code",
   "execution_count": null,
   "metadata": {
    "collapsed": false
   },
   "outputs": [
    {
     "data": {
      "text/plain": [
       "<matplotlib.figure.Figure at 0x10a39dfd0>"
      ]
     },
     "metadata": {},
     "output_type": "display_data"
    }
   ],
   "source": [
    "fid=open('data_c_streaming_double.txt','r')\n",
    "ax=plt.axes([.1, .1, .8, .8])\n",
    "\n",
    "while True:\n",
    "    try:\n",
    "        eof=fid.seek(0,2)\n",
    "        fid.seek(eof-4*1026)\n",
    "        lines=fid.read().split('\\n')\n",
    "        data=[int(x,0) for x in lines[1:-1]]\n",
    "\n",
    "        plt.clf()\n",
    "        ax.plot(range(len(data)),data)\n",
    "        ax.set_ylim([0,500])\n",
    "        display.display(plt.gcf())\n",
    "        display.clear_output(wait=True)\n",
    "        time.sleep(0.05) \n",
    "    except KeyboardInterrupt:\n",
    "        break\n",
    "\n"
   ]
  },
  {
   "cell_type": "code",
   "execution_count": 34,
   "metadata": {
    "collapsed": true
   },
   "outputs": [],
   "source": []
  },
  {
   "cell_type": "code",
   "execution_count": null,
   "metadata": {
    "collapsed": true
   },
   "outputs": [],
   "source": []
  }
 ],
 "metadata": {
  "kernelspec": {
   "display_name": "Python 3",
   "language": "python",
   "name": "python3"
  },
  "language_info": {
   "codemirror_mode": {
    "name": "ipython",
    "version": 3
   },
   "file_extension": ".py",
   "mimetype": "text/x-python",
   "name": "python",
   "nbconvert_exporter": "python",
   "pygments_lexer": "ipython3",
   "version": "3.4.4"
  }
 },
 "nbformat": 4,
 "nbformat_minor": 0
}
