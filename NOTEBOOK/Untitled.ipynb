{
 "cells": [
  {
   "cell_type": "code",
   "execution_count": 1,
   "metadata": {
    "collapsed": false
   },
   "outputs": [
    {
     "name": "stderr",
     "output_type": "stream",
     "text": [
      "INFO: Precompiling module PyPlot.\n"
     ]
    },
    {
     "data": {
      "text/plain": [
       "true"
      ]
     },
     "execution_count": 1,
     "metadata": {},
     "output_type": "execute_result"
    }
   ],
   "source": [
    "using PyPlot\n",
    "include(\"lib_read_ep.jl\")\n",
    "\n",
    "pygui(true)\n",
    "varnames=[\"T1\",\"T2\",\"Shear1\",\"Shear2\", \"Cond1\", \"Accelx\",\"Accely\",\"Accelz\"]\n"
   ]
  },
  {
   "cell_type": "code",
   "execution_count": 3,
   "metadata": {
    "collapsed": false
   },
   "outputs": [],
   "source": [
    "fid = open(\"ep_test_v0.txt\")\n",
    "nblinesavailable = countlines(fid) # countlines changes the position of the file!!!\n",
    "seekstart(fid)\n",
    "fLines = readlines(fid) #grab the chunk size or more?\n",
    "\n",
    "dataBuffer = zeros(UInt32, nblinesavailable, length(varnames));\n",
    "for (linenum,line) in enumerate(fLines) #over each line\n",
    "  lineData = split(line[1:end-1],',')\n",
    "  for(ch, val) in enumerate(lineData)\n",
    "      dataBuffer[linenum, ch] = parse(UInt32,val,16)\n",
    "  end\n",
    "end\n",
    "Ax     = dataBuffer[:,end-2];\n",
    "Ay     = dataBuffer[:,end-1];\n",
    "Az     = dataBuffer[:,end];\n",
    "Shear1 = dataBuffer[:,3];\n",
    "Shear2 = dataBuffer[:,4];\n",
    "T1     = dataBuffer[:,1];\n",
    "T2     = dataBuffer[:,2];\n"
   ]
  },
  {
   "cell_type": "code",
   "execution_count": 4,
   "metadata": {
    "collapsed": false
   },
   "outputs": [
    {
     "data": {
      "text/plain": [
       "943881×8 Array{UInt32,2}:\n",
       " 0x00ffdbf4  0x00a75d79  0x007ffca5  …  0x00a2422f  0x00a74574  0x006241c2\n",
       " 0x00ffdbfc  0x00a75d7d  0x007ffc91     0x00a23800  0x00a74697  0x0062455a\n",
       " 0x00ffdbfb  0x00a75d7e  0x007ffc95     0x00a2377c  0x00a74928  0x0062422b\n",
       " 0x00ffdbe8  0x00a75d7b  0x007ffca2     0x00a240fe  0x00a749de  0x00623f5b\n",
       " 0x00ffdbe4  0x00a75d73  0x007ffcb3     0x00a24bae  0x00a74e0c  0x00623b0f\n",
       " 0x00ffdbec  0x00a75d79  0x007ffcb4  …  0x00a247ce  0x00a7533c  0x00623325\n",
       " 0x00ffdbf1  0x00a75d80  0x007ffca6     0x00a24840  0x00a7570f  0x00622d11\n",
       " 0x00ffdbee  0x00a75d7a  0x007ffca0     0x00a24e6f  0x00a75466  0x00622949\n",
       " 0x00ffdbdf  0x00a75d7a  0x007ffcab     0x00a24828  0x00a7539b  0x0062258b\n",
       " 0x00ffdbe6  0x00a75d7c  0x007ffcb5     0x00a24b3e  0x00a75420  0x00621fd5\n",
       " 0x00ffdbf9  0x00a75d80  0x007ffcb3  …  0x00a251a1  0x00a750c8  0x00621f71\n",
       " 0x00ffdbf5  0x00a75d82  0x007ffc9e     0x00a24fbd  0x00a7540f  0x0062213b\n",
       " 0x00ffdbe5  0x00a75d8d  0x007ffc96     0x00a24411  0x00a75055  0x006220f7\n",
       "          ⋮                          ⋱           ⋮                        \n",
       " 0x00ffdbd5  0x00a75daa  0x007ffce6     0x00a418ad  0x00ac0a13  0x0062e70f\n",
       " 0x00ffdbd7  0x00a75dac  0x007ffce8  …  0x00a40ce9  0x00ac0b2b  0x0062e4bc\n",
       " 0x00ffdbe0  0x00a75db1  0x007ffcde     0x00a42de0  0x00ac05b1  0x0062e228\n",
       " 0x00ffdbe2  0x00a75db5  0x007ffcda     0x00a42726  0x00ac119e  0x0062ea52\n",
       " 0x00ffdbd4  0x00a75db4  0x007ffcd6     0x00a407f9  0x00ac1a88  0x0062f477\n",
       " 0x00ffdbd4  0x00a75dba  0x007ffcda     0x00a4150f  0x00ac0f37  0x0062ea94\n",
       " 0x00ffdbda  0x00a75dbb  0x007ffcda  …  0x00a419ee  0x00abffcc  0x0062ded9\n",
       " 0x00ffdbda  0x00a75db4  0x007ffcdc     0x00a40907  0x00ac0f37  0x0062e4b9\n",
       " 0x00ffdbdb  0x00a75db1  0x007ffcd4     0x00a40cdd  0x00ac0e19  0x0062e93a\n",
       " 0x00ffdbd4  0x00a75db6  0x007ffcd5     0x00a41cc3  0x00ac08d0  0x0062e2a5\n",
       " 0x00ffdbd6  0x00a75db3  0x007ffcdb     0x00a40258  0x00ac0a3e  0x0062e6e0\n",
       " 0x00ffdbd8  0x00a75daf  0x007ffce5  …  0x00a4036d  0x00ac103e  0x0062f4a1"
      ]
     },
     "execution_count": 4,
     "metadata": {},
     "output_type": "execute_result"
    }
   ],
   "source": [
    "dataBuffer"
   ]
  },
  {
   "cell_type": "code",
   "execution_count": 8,
   "metadata": {
    "collapsed": false
   },
   "outputs": [
    {
     "ename": "LoadError",
     "evalue": "LoadError: MethodError: no method matching hex2num(::UInt32)\nClosest candidates are:\n  hex2num(!Matched::AbstractString) at floatfuncs.jl:34\nwhile loading In[8], in expression starting on line 1",
     "output_type": "error",
     "traceback": [
      "LoadError: MethodError: no method matching hex2num(::UInt32)\nClosest candidates are:\n  hex2num(!Matched::AbstractString) at floatfuncs.jl:34\nwhile loading In[8], in expression starting on line 1",
      ""
     ]
    }
   ],
   "source": [
    "hex2num(maximum(dataBuffer[:,1]))"
   ]
  },
  {
   "cell_type": "code",
   "execution_count": 15,
   "metadata": {
    "collapsed": false
   },
   "outputs": [
    {
     "name": "stdout",
     "output_type": "stream",
     "text": [
      "1\n",
      "2\n",
      "3\n",
      "4\n",
      "5\n",
      "6\n",
      "7\n",
      "8\n",
      "9\n",
      "10\n"
     ]
    }
   ],
   "source": [
    "for i in 1:10\n",
    "    print(string(i)*\"\\n\")\n",
    "end"
   ]
  },
  {
   "cell_type": "code",
   "execution_count": 82,
   "metadata": {
    "collapsed": false
   },
   "outputs": [
    {
     "data": {
      "text/plain": [
       "PyObject <matplotlib.axes._axes.Axes object at 0x33040f160>"
      ]
     },
     "execution_count": 82,
     "metadata": {},
     "output_type": "execute_result"
    }
   ],
   "source": [
    "ax1=plt[:axes]([.1,.7, .2, .2])\n",
    "ax2=plt[:axes]([.4,.7, .2, .2])\n",
    "ax3=plt[:axes]([.7,.7, .2, .2])\n",
    "ax4=plt[:axes]([.1,.4, .2, .2])\n",
    "ax5=plt[:axes]([.4,.4, .2, .2])\n",
    "ax6=plt[:axes]([.7,.4, .2, .2])\n",
    "ax7=plt[:axes]([.1,.1, .2, .2])\n",
    "ax8=plt[:axes]([.4,.1, .2, .2])\n",
    "ax9=plt[:axes]([.7,.1, .2, .2])\n"
   ]
  },
  {
   "cell_type": "code",
   "execution_count": 83,
   "metadata": {
    "collapsed": false
   },
   "outputs": [
    {
     "ename": "LoadError",
     "evalue": "LoadError: InterruptException:\nwhile loading In[83], in expression starting on line 1",
     "output_type": "error",
     "traceback": [
      "LoadError: InterruptException:\nwhile loading In[83], in expression starting on line 1",
      "",
      " in #_pycall#62(::Array{Any,1}, ::Function, ::PyCall.PyObject, ::Float64, ::Vararg{Float64,N}) at /Users/aleboyer/.julia/v0.5/PyCall/src/PyCall.jl:556",
      " in _pycall(::PyCall.PyObject, ::Float64, ::Vararg{Float64,N}) at /Users/aleboyer/.julia/v0.5/PyCall/src/PyCall.jl:534",
      " in #pycall#66(::Array{Any,1}, ::Function, ::PyCall.PyObject, ::Type{PyCall.PyAny}, ::Float64, ::Vararg{Float64,N}) at /Users/aleboyer/.julia/v0.5/PyCall/src/PyCall.jl:568",
      " in pycall(::PyCall.PyObject, ::Type{PyCall.PyAny}, ::Float64, ::Vararg{Float64,N}) at /Users/aleboyer/.julia/v0.5/PyCall/src/PyCall.jl:568",
      " in #pause#80(::Array{Any,1}, ::Function, ::Float64, ::Vararg{Float64,N}) at /Users/aleboyer/.julia/v0.5/PyPlot/src/PyPlot.jl:399",
      " in macro expansion; at ./In[83]:11 [inlined]",
      " in anonymous at ./<missing>:?"
     ]
    }
   ],
   "source": [
    "for i in 2:100\n",
    "    ax1[:plot](1:i,[1:i;].*0+1)\n",
    "    ax2[:plot](1:i,[1:i;].*0+2)\n",
    "    ax3[:plot](1:i,[1:i;].*0+3)\n",
    "    ax4[:plot](1:i,[1:i;].*0+4)\n",
    "    ax5[:plot](1:i,[1:i;].*0+5)\n",
    "    ax6[:plot](1:i,[1:i;].*0+6)\n",
    "    ax7[:plot](1:i,[1:i;].*0+7)\n",
    "    ax8[:plot](1:i,[1:i;].*0+8)\n",
    "    ax9[:plot](1:i,[1:i;].*0+9)\n",
    "    pause(.5)\n",
    "end\n",
    "    "
   ]
  },
  {
   "cell_type": "code",
   "execution_count": 77,
   "metadata": {
    "collapsed": false
   },
   "outputs": [
    {
     "data": {
      "text/plain": [
       "10-element Array{Int64,1}:\n",
       " 0\n",
       " 0\n",
       " 0\n",
       " 0\n",
       " 0\n",
       " 0\n",
       " 0\n",
       " 0\n",
       " 0\n",
       " 0"
      ]
     },
     "execution_count": 77,
     "metadata": {},
     "output_type": "execute_result"
    }
   ],
   "source": [
    "test=[1:10;].*0"
   ]
  },
  {
   "cell_type": "code",
   "execution_count": 63,
   "metadata": {
    "collapsed": false
   },
   "outputs": [
    {
     "ename": "LoadError",
     "evalue": "LoadError: BoundsError: attempt to access 1×1 Array{Array{Int64,2},2} at index [2]\nwhile loading In[63], in expression starting on line 1",
     "output_type": "error",
     "traceback": [
      "LoadError: BoundsError: attempt to access 1×1 Array{Array{Int64,2},2} at index [2]\nwhile loading In[63], in expression starting on line 1",
      "",
      " in getindex(::Array{Array{Int64,2},2}, ::Int64) at ./array.jl:386"
     ]
    }
   ],
   "source": [
    "test[2]"
   ]
  },
  {
   "cell_type": "code",
   "execution_count": null,
   "metadata": {
    "collapsed": true
   },
   "outputs": [],
   "source": []
  }
 ],
 "metadata": {
  "kernelspec": {
   "display_name": "Julia 0.5.0",
   "language": "julia",
   "name": "julia-0.5"
  },
  "language_info": {
   "file_extension": ".jl",
   "mimetype": "application/julia",
   "name": "julia",
   "version": "0.5.0"
  }
 },
 "nbformat": 4,
 "nbformat_minor": 0
}
